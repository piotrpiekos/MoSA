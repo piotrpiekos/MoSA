{
 "cells": [
  {
   "cell_type": "code",
   "execution_count": 1,
   "metadata": {},
   "outputs": [
    {
     "name": "stderr",
     "output_type": "stream",
     "text": [
      "/home/piekosp/anaconda3/envs/MoSA/lib/python3.13/site-packages/torch/_subclasses/functional_tensor.py:275: UserWarning: Failed to initialize NumPy: No module named 'numpy' (Triggered internally at /pytorch/torch/csrc/utils/tensor_numpy.cpp:81.)\n",
      "  cpu = _conversion_method_template(device=torch.device(\"cpu\"))\n"
     ]
    }
   ],
   "source": [
    "from mosa import MoSA "
   ]
  },
  {
   "cell_type": "code",
   "execution_count": 2,
   "metadata": {},
   "outputs": [
    {
     "ename": "TypeError",
     "evalue": "MoSA.__init__() missing 1 required positional argument: 'sparsity'",
     "output_type": "error",
     "traceback": [
      "\u001b[31m---------------------------------------------------------------------------\u001b[39m",
      "\u001b[31mTypeError\u001b[39m                                 Traceback (most recent call last)",
      "\u001b[36mCell\u001b[39m\u001b[36m \u001b[39m\u001b[32mIn[2]\u001b[39m\u001b[32m, line 8\u001b[39m\n\u001b[32m      5\u001b[39m h_prim = \u001b[32m16\u001b[39m\n\u001b[32m      7\u001b[39m x = torch.rand(B, T, h)\n\u001b[32m----> \u001b[39m\u001b[32m8\u001b[39m mosa_head = \u001b[43mMoSA\u001b[49m\u001b[43m(\u001b[49m\u001b[43mH\u001b[49m\u001b[43m,\u001b[49m\u001b[43m \u001b[49m\u001b[43mrho\u001b[49m\u001b[43m,\u001b[49m\u001b[43m \u001b[49m\u001b[43mh\u001b[49m\u001b[43m,\u001b[49m\u001b[43m \u001b[49m\u001b[43mh_prim\u001b[49m\u001b[43m,\u001b[49m\u001b[43m \u001b[49m\u001b[43mT\u001b[49m\u001b[43m)\u001b[49m\n\u001b[32m      9\u001b[39m mosa_head(x).shape\n",
      "\u001b[31mTypeError\u001b[39m: MoSA.__init__() missing 1 required positional argument: 'sparsity'"
     ]
    }
   ],
   "source": [
    "import torch\n",
    "B, T, h = 32, 512, 128\n",
    "H = 8\n",
    "rho = 16\n",
    "h_prim = 16\n",
    "\n",
    "x = torch.rand(B, T, h)\n",
    "mosa_head = MoSA(H, rho, h, h_prim, T)\n",
    "mosa_head(x).shape"
   ]
  },
  {
   "cell_type": "code",
   "execution_count": 3,
   "metadata": {},
   "outputs": [
    {
     "name": "stdout",
     "output_type": "stream",
     "text": [
      "> \u001b[32m/tmp/ipykernel_1367126/1180431172.py\u001b[39m(\u001b[92m8\u001b[39m)\u001b[36m<module>\u001b[39m\u001b[34m()\u001b[39m\n",
      "\u001b[32m      5\u001b[39m h_prim = \u001b[32m16\u001b[39m\n",
      "\u001b[32m      6\u001b[39m \n",
      "\u001b[32m      7\u001b[39m x = torch.rand(B, T, h)\n",
      "\u001b[32m----> 8\u001b[39m mosa_head = MoSA(H, rho, h, h_prim, T)\n",
      "\u001b[32m      9\u001b[39m mosa_head(x).shape\n",
      "\n"
     ]
    }
   ],
   "source": [
    "%debug"
   ]
  },
  {
   "cell_type": "code",
   "execution_count": 3,
   "metadata": {},
   "outputs": [
    {
     "data": {
      "text/plain": [
       "torch.Size([32, 512, 128])"
      ]
     },
     "execution_count": 3,
     "metadata": {},
     "output_type": "execute_result"
    }
   ],
   "source": [
    "import torch\n",
    "from mosa import MoSA\n",
    "batch_size, sequence_length, h = 32, 512, 128\n",
    "sparsity = 16\n",
    "h_prim = 16\n",
    "num_mosa_heads = 4\n",
    "othertype = 'dense'\n",
    " # can be either 'dense' or 'local'. In order to use 'local' install local-attention package\n",
    "num_othertype_heads = 3 \n",
    "\n",
    "x = torch.rand(batch_size, sequence_length, h)\n",
    "mosa_head = MoSA(h, h_prim, num_mosa_heads, num_othertype_heads, sequence_length, sparsity, 'dense')\n",
    "mosa_head(x).shape"
   ]
  },
  {
   "cell_type": "code",
   "execution_count": null,
   "metadata": {},
   "outputs": [],
   "source": [
    "from mosa import PureMoSA\n",
    "from torch import nn\n",
    "\n",
    "class CustomBlock(nn.Module):\n",
    "    def __init__(self, *args, **kwargs):\n",
    "        super().__init__()\n",
    "\n",
    "        mosa_heads = PureMoSA()\n",
    "        ..."
   ]
  },
  {
   "cell_type": "code",
   "execution_count": 4,
   "metadata": {},
   "outputs": [
    {
     "data": {
      "text/plain": [
       "tensor([[[-0.0539,  0.1928, -0.1712,  ...,  0.1652,  0.0939,  0.0083],\n",
       "         [-0.1052,  0.2533, -0.0977,  ...,  0.0800,  0.1320,  0.1180],\n",
       "         [-0.1499,  0.2642, -0.1112,  ...,  0.0774,  0.1313,  0.1408],\n",
       "         ...,\n",
       "         [-0.0973,  0.2322, -0.1058,  ...,  0.1225,  0.0848,  0.0429],\n",
       "         [-0.0613,  0.2378, -0.1694,  ...,  0.0959,  0.1015,  0.0918],\n",
       "         [-0.0967,  0.2320, -0.1074,  ...,  0.1231,  0.0849,  0.0424]],\n",
       "\n",
       "        [[-0.1394,  0.1431,  0.0074,  ...,  0.0176,  0.0614, -0.0384],\n",
       "         [-0.0368,  0.1895, -0.0398,  ...,  0.0528,  0.0742,  0.0380],\n",
       "         [-0.0798,  0.2236, -0.0388,  ...,  0.0959,  0.1138,  0.0484],\n",
       "         ...,\n",
       "         [-0.0982,  0.2279, -0.0968,  ...,  0.1325,  0.0868,  0.0483],\n",
       "         [-0.0977,  0.2279, -0.0975,  ...,  0.1322,  0.0865,  0.0480],\n",
       "         [-0.1071,  0.3291, -0.1659,  ...,  0.1492,  0.0674,  0.0922]],\n",
       "\n",
       "        [[ 0.0333,  0.3445, -0.2115,  ...,  0.1177, -0.1389,  0.0711],\n",
       "         [-0.0070,  0.2659, -0.1138,  ...,  0.1570, -0.0165,  0.0627],\n",
       "         [-0.0697,  0.3218, -0.0365,  ...,  0.1345,  0.0109,  0.1003],\n",
       "         ...,\n",
       "         [-0.1035,  0.2329, -0.1037,  ...,  0.1335,  0.0833,  0.0411],\n",
       "         [-0.1033,  0.2325, -0.1033,  ...,  0.1335,  0.0832,  0.0411],\n",
       "         [-0.1034,  0.2329, -0.1033,  ...,  0.1330,  0.0837,  0.0416]],\n",
       "\n",
       "        ...,\n",
       "\n",
       "        [[-0.2817,  0.2666, -0.0152,  ...,  0.1120,  0.1028,  0.0760],\n",
       "         [-0.1266,  0.3431, -0.1787,  ...,  0.1041,  0.0350,  0.1182],\n",
       "         [-0.1098,  0.2041, -0.0967,  ...,  0.0967,  0.0156,  0.0667],\n",
       "         ...,\n",
       "         [-0.1115,  0.3325, -0.1611,  ...,  0.1388,  0.0620,  0.0894],\n",
       "         [-0.1001,  0.2357, -0.0978,  ...,  0.1325,  0.0740,  0.0358],\n",
       "         [-0.1002,  0.2362, -0.0984,  ...,  0.1333,  0.0732,  0.0352]],\n",
       "\n",
       "        [[ 0.0114,  0.4802, -0.2432,  ...,  0.2469,  0.0700,  0.3301],\n",
       "         [-0.0111,  0.3875, -0.1316,  ...,  0.2223, -0.0390,  0.0740],\n",
       "         [-0.0386,  0.3164, -0.1505,  ...,  0.1353,  0.0569,  0.1581],\n",
       "         ...,\n",
       "         [-0.0961,  0.2374, -0.1081,  ...,  0.1364,  0.0844,  0.0437],\n",
       "         [-0.0956,  0.2378, -0.1085,  ...,  0.1367,  0.0841,  0.0438],\n",
       "         [-0.0845,  0.2320, -0.0857,  ...,  0.1592,  0.0755,  0.0188]],\n",
       "\n",
       "        [[-0.1251,  0.3750, -0.1474,  ...,  0.0500,  0.0320,  0.0582],\n",
       "         [-0.1268,  0.2866, -0.1223,  ...,  0.0839,  0.0675,  0.1414],\n",
       "         [-0.1133,  0.2096, -0.0806,  ...,  0.0865, -0.0107,  0.1480],\n",
       "         ...,\n",
       "         [-0.0944,  0.2259, -0.0869,  ...,  0.1597,  0.0699,  0.0253],\n",
       "         [-0.1049,  0.2315, -0.1089,  ...,  0.1344,  0.0800,  0.0431],\n",
       "         [-0.1049,  0.2318, -0.1097,  ...,  0.1346,  0.0797,  0.0438]]],\n",
       "       grad_fn=<AddBackward0>)"
      ]
     },
     "execution_count": 4,
     "metadata": {},
     "output_type": "execute_result"
    }
   ],
   "source": [
    "mosa_head(x)"
   ]
  },
  {
   "cell_type": "code",
   "execution_count": null,
   "metadata": {},
   "outputs": [],
   "source": []
  }
 ],
 "metadata": {
  "kernelspec": {
   "display_name": "MoSA",
   "language": "python",
   "name": "python3"
  },
  "language_info": {
   "codemirror_mode": {
    "name": "ipython",
    "version": 3
   },
   "file_extension": ".py",
   "mimetype": "text/x-python",
   "name": "python",
   "nbconvert_exporter": "python",
   "pygments_lexer": "ipython3",
   "version": "3.13.3"
  }
 },
 "nbformat": 4,
 "nbformat_minor": 2
}
